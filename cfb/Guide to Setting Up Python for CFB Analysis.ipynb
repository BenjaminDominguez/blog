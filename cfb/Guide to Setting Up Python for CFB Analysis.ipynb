{
 "cells": [
  {
   "cell_type": "markdown",
   "metadata": {},
   "source": [
    "This is the start of a Learn Python with College Football series. Some of you may know me from my Learn Python with Fantasy Football series I wrote on fantasy football data pros. \n",
    "\n",
    "Disclaimer: Truth be told, historically I'm more of an NFL fan than I am a College Football fan, although that's quickly changing since I graduated from FSU about a year ago (it helps that it looks like FSU is back, fingers crossed). I know my FSU Seminoles pretty well (if you're a UF or Miami fan, this is probably not the series for you (jk) (jk maybe not)), the top 25 and some of the top players in the country, but to be honest, I could use some work on my CFB knowledge. But like I said, that's quickly changing and I find myself more and more interested in CFB, to the point where I'm more likely to miss a Dolphins game than I am to miss an FSU football game.\n",
    "\n",
    "I'm doing this series with the intention of (a) feeding my growing interest in CFB, (b) explore the current analytics landscape for CFB and maybe even do some work to expand it (my initial research tells me that it isn't as developed as the NFL landscape), and (c) to get more people into coding and data science by exposing it through college football. "
   ]
  }
 ],
 "metadata": {
  "kernelspec": {
   "display_name": "Python 3 (ipykernel)",
   "language": "python",
   "name": "python3"
  },
  "language_info": {
   "codemirror_mode": {
    "name": "ipython",
    "version": 3
   },
   "file_extension": ".py",
   "mimetype": "text/x-python",
   "name": "python",
   "nbconvert_exporter": "python",
   "pygments_lexer": "ipython3",
   "version": "3.10.5"
  },
  "vscode": {
   "interpreter": {
    "hash": "506a319ebebdb00029c604657cb2bbab64f5a438866e497f04618e385c1d8ae6"
   }
  }
 },
 "nbformat": 4,
 "nbformat_minor": 2
}
