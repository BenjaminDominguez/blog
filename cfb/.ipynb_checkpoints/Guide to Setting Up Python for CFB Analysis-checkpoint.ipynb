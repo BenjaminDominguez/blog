{
 "cells": [
  {
   "cell_type": "markdown",
   "metadata": {},
   "source": [
    "# Introductions\n",
    "\n",
    "This the first post, in hopefully a series of many posts, on how to use Python to analyze College Football data. Some of you may know me from my <a target=\"_blank\" href=\"https://www.fantasyfootballdatapros.com\">Learn Python with Fantasy Football series</a> I wrote on my old website Fantasy Football Data Pros (which is still up, but slowly I have been moving all of the content there over here). \n",
    "\n",
    "When writing articles or tutorials it's important to define who your audience is beforehand. This post is not targeted at complete beginners at the moment, but eventually, I will write some more basic tutorials for people who are just starting out. This post is better suited for those who have some coding experience, maybe some Python experience, but not much experience with either (a) Python's data science capabilities, (b) data science in general, or (c) the current tools and methods available for analyzing CFB data. It's hard to tell, but I think some of you more tech savvy folks who don't know how to code still might be able to follow along with these posts until I come out with some beginners ones covering basic Python principles. \n",
    "\n",
    "Anyway - I think this series may be fun. Truth be told, I'm historically more of an NFL fan than I am a College Football fan, although that's quickly changing since I graduated from FSU about a year ago. I know my FSU Seminoles pretty well (if you're a Florida or Miami fan, this is <i>probably</i> not the series for you (jk) (jk maybe not)), I'm familiar with all of the teams in contention for big bowl games, and most of the top players in the country, but to be honest, I could use some work on my CFB knowledge. In the NFL, I can name you pretty much entire starting rosters, but can't say the same for CFB, but I'm learning. \n",
    "\n",
    "Still, that's quickly changing and I find myself more and more interested in CFB, to the point where I'm more likely to miss a Dolphins game than I am to miss an FSU football game.\n",
    "\n",
    "I'm doing this series with the intention of (a) feeding my growing interest in CFB, (b) exploring the current analytics landscape for CFB and maybe even do some work to expand it (my initial research tells me that it resources and content aren't as developed as the NFL space), and (c) to get more people into coding and data science by exposing it through college football.\n",
    "\n",
    "# Data Sources\n",
    "\n",
    "Anytime I'm exploring a new domain for data science purposes, the first thing I'm looking for is data. Free and available data. If it isn't available, it might not be worth digging into the domain until I'm able to figure out a way to access the data or collect it myself. Thankfully, I've found a couple resources. There's a Reddit thread below which lists out many of the resources available in the CFB space: \n",
    "\n",
    "https://www.reddit.com/r/CFBAnalysis/comments/p3p22c/cfb_data_and_resources_2021_edition/\n",
    "\n",
    "There's truly one data source that is putting the entire team on it's back, and it's CollegeFootballData.com. There's an API, it's free, and has a Python package that integrates well with Pandas, Python's data manipulation library. Checks all the boxes. I would encourage you to investigate it further and check out their API documentation after this post.\n",
    "\n",
    "The python package for interacting with the API is called `cfbd`. Before actually using it, you'll have to get your API keys by providing your email. They'll then email you a API token.\n",
    "\n",
    "# Environment\n",
    "\n",
    "In Python, data science code, especially in the EDA stage of the process, is typically done in IPython / notebook environment. These environments. Stephen Wolfram describes that the main idea behind noteboks is to \"have an interactive document that freely mixes code, results, graphics, text and everything else\". These environments are perfectly suited for exploratory data analysis as they allow us to iterate easily on data, and also tell stories with data very easily (as we are going to do throughout this series).\n",
    "\n",
    "There's two main options for notebook environments, either Jupyter Notebooks or Google Colab. Both are browser-based technically, but Jupyter requires installation. I'd suggest using Google Colab because it is fully remote and requires 0 installation. I really don't want to spend too much time answering people's questions regarding an error with their installation, that may be completely unique to their operating system / computer. So using Google Colab is easy for me (All you need to do is login with a Google account) and easy for me (I don't have to walk you through any installation, not even installing Python).\n",
    "\n",
    "In these notebook environments, you'll have a mix of markdown and also executable IPython cells which can be ran using the play button on the left hand side or the keystroke combo `Shift Enter`.\n",
    "\n",
    "When you first logged in, there should have also been a sample notebook + tutorial detailing some more features regarding Colab that I don't want to go into because I'd rather analyze some CFB.\n",
    "\n",
    "# Let's write some code!\n",
    "\n",
    "Create a new notebook, and in the first cell let's import `cfbd` and start messing around and seeing what data we can find. In this post, we are going to examine some of the different datasets we can pull from this API and maybe manipulate it a bit. In subsequent posts, we'll focus more on actually using this data to generate insights or make cool visualizations."
   ]
  },
  {
   "cell_type": "code",
   "execution_count": 2,
   "metadata": {},
   "outputs": [],
   "source": [
    "import cfbd"
   ]
  },
  {
   "cell_type": "code",
   "execution_count": null,
   "metadata": {},
   "outputs": [],
   "source": []
  }
 ],
 "metadata": {
  "kernelspec": {
   "display_name": "Python 3 (ipykernel)",
   "language": "python",
   "name": "python3"
  },
  "language_info": {
   "codemirror_mode": {
    "name": "ipython",
    "version": 3
   },
   "file_extension": ".py",
   "mimetype": "text/x-python",
   "name": "python",
   "nbconvert_exporter": "python",
   "pygments_lexer": "ipython3",
   "version": "3.10.5"
  },
  "vscode": {
   "interpreter": {
    "hash": "506a319ebebdb00029c604657cb2bbab64f5a438866e497f04618e385c1d8ae6"
   }
  }
 },
 "nbformat": 4,
 "nbformat_minor": 2
}
